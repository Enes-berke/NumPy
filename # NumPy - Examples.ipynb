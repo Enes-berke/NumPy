{
 "cells": [
  {
   "cell_type": "code",
   "execution_count": null,
   "id": "d0ef06aa-ed67-4917-8fdf-6c8f35bee4f2",
   "metadata": {},
   "outputs": [],
   "source": [
    "# NumPy - Examples"
   ]
  },
  {
   "cell_type": "code",
   "execution_count": null,
   "id": "df0cb9b4-5409-4389-a6e3-53ea678aeb70",
   "metadata": {},
   "outputs": [],
   "source": [
    "import numpy as np\n",
    "from numpy import *"
   ]
  },
  {
   "cell_type": "code",
   "execution_count": null,
   "id": "5a4018ca-2a5e-4257-be90-9ddcf3eb8de5",
   "metadata": {},
   "outputs": [],
   "source": [
    "v = np.array([ 0, 3, 6, 9, 12, 15, 18, 21, 24, 27])"
   ]
  },
  {
   "cell_type": "code",
   "execution_count": null,
   "id": "2d7a9a20-574c-496e-a9aa-6b901ac2f2da",
   "metadata": {},
   "outputs": [],
   "source": [
    "v[[1,2,3]]"
   ]
  },
  {
   "cell_type": "code",
   "execution_count": null,
   "id": "a51d77f0-83be-4fd9-931c-bacb7159c513",
   "metadata": {},
   "outputs": [],
   "source": [
    "print(np.arange(0,10, 2)) # [0 2 4 6 8]"
   ]
  },
  {
   "cell_type": "code",
   "execution_count": null,
   "id": "f8792c67-c229-491d-a9d0-90bb47b2e36b",
   "metadata": {},
   "outputs": [],
   "source": [
    "print(np.array([3.14, 4,6,1.2]))"
   ]
  },
  {
   "cell_type": "code",
   "execution_count": null,
   "id": "1a12bcbe-cb94-418f-8691-5b3040aa75bd",
   "metadata": {},
   "outputs": [],
   "source": [
    "######################################################"
   ]
  },
  {
   "cell_type": "code",
   "execution_count": null,
   "id": "bd2febcb-18d6-4880-aa38-4b918e4e82d1",
   "metadata": {},
   "outputs": [],
   "source": [
    "x = np.array([1, 2, 3])"
   ]
  },
  {
   "cell_type": "code",
   "execution_count": null,
   "id": "e8713577-f677-4777-ba30-8352892e6d76",
   "metadata": {},
   "outputs": [],
   "source": [
    "y = np.array([4, 5, 6])"
   ]
  },
  {
   "cell_type": "code",
   "execution_count": null,
   "id": "2b4a78db-1fed-4ae9-8e3d-ebb75b4c5fac",
   "metadata": {},
   "outputs": [],
   "source": [
    "print(np.concatenate([x,y])) # [1 2 3 4 5 6]"
   ]
  },
  {
   "cell_type": "code",
   "execution_count": null,
   "id": "68f211b2-20cd-42ea-bfcb-df0b8d3df8bb",
   "metadata": {},
   "outputs": [],
   "source": [
    "######################################################"
   ]
  },
  {
   "cell_type": "code",
   "execution_count": null,
   "id": "c6490f7d-a2df-4f37-9269-1ed4aced733a",
   "metadata": {},
   "outputs": [],
   "source": [
    "m = array([[0, 1, 2],\n",
    "             [3, 4, 5],\n",
    "             [6, 7, 8]])"
   ]
  },
  {
   "cell_type": "code",
   "execution_count": null,
   "id": "a424d71f-184a-43f7-8142-383e8a98849d",
   "metadata": {},
   "outputs": [],
   "source": [
    "print(m[0, [1,2]]) # [1 2]"
   ]
  },
  {
   "cell_type": "code",
   "execution_count": null,
   "id": "6a2b81ca-08c1-4113-9f45-1f49cdb9ff15",
   "metadata": {},
   "outputs": [],
   "source": [
    "print(5* np.array([1, 2,3])) # [ 5 10 15]"
   ]
  },
  {
   "cell_type": "code",
   "execution_count": null,
   "id": "ff27e613-0594-4a1d-b699-3de11a3e346e",
   "metadata": {},
   "outputs": [],
   "source": [
    "######################################################"
   ]
  },
  {
   "cell_type": "code",
   "execution_count": null,
   "id": "dc4431ea-e958-4a01-8dd2-56717dc2d6b3",
   "metadata": {},
   "outputs": [],
   "source": [
    "aa = array([[[7, 9],[4, 0],[5, 9]],\n",
    "            [[4, 8],[6, 4],[4, 5]],\n",
    "            [[2, 2],[8, 2],[0, 2]]])"
   ]
  },
  {
   "cell_type": "code",
   "execution_count": null,
   "id": "ae5bc7c7-08ea-4a45-99b9-05188b4d31ad",
   "metadata": {},
   "outputs": [],
   "source": [
    "print(aa.shape) # (3, 3, 2) ==> dizinin boyutsal şekli"
   ]
  },
  {
   "cell_type": "code",
   "execution_count": null,
   "id": "6a706fce-4d76-47c4-98a4-de7fffa618af",
   "metadata": {},
   "outputs": [],
   "source": [
    "######################################################"
   ]
  },
  {
   "cell_type": "code",
   "execution_count": null,
   "id": "75dc2645-ba1c-448d-b78d-dfdadf233752",
   "metadata": {},
   "outputs": [],
   "source": [
    "v = array([[4, 7, 4, 5, 9],\n",
    "            [2, 5, 0, 7, 7],\n",
    "            [1, 9, 0, 8, 2]])"
   ]
  },
  {
   "cell_type": "code",
   "execution_count": null,
   "id": "85e17761-ee17-4e68-9e9c-9e57e1d09ba1",
   "metadata": {},
   "outputs": [],
   "source": [
    "print(v[:2, :3]) # [4 - 7 - 4] [2 - 5 - 0]"
   ]
  },
  {
   "cell_type": "code",
   "execution_count": null,
   "id": "c8f968b9-801b-4519-a8fb-0f97bbfdf80f",
   "metadata": {},
   "outputs": [],
   "source": [
    "# satır = 0 - sutun = 0\n",
    "# satır = 0 - sutun = 1\n",
    "# satır = 0 - sutun = 2\n",
    "# satır = 1 - sutun = 0\n",
    "# satır = 1 - sutun = 1\n",
    "# satır = 1 - sutun = 2"
   ]
  }
 ],
 "metadata": {
  "kernelspec": {
   "display_name": "Python 3 (ipykernel)",
   "language": "python",
   "name": "python3"
  },
  "language_info": {
   "codemirror_mode": {
    "name": "ipython",
    "version": 3
   },
   "file_extension": ".py",
   "mimetype": "text/x-python",
   "name": "python",
   "nbconvert_exporter": "python",
   "pygments_lexer": "ipython3",
   "version": "3.11.4"
  }
 },
 "nbformat": 4,
 "nbformat_minor": 5
}
