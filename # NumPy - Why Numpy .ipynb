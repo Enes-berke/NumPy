{
 "cells": [
  {
   "cell_type": "code",
   "execution_count": 1,
   "id": "b6a41340",
   "metadata": {},
   "outputs": [],
   "source": [
    "# NumPy - Why Numpy ?"
   ]
  },
  {
   "cell_type": "code",
   "execution_count": 2,
   "id": "7bc740c6",
   "metadata": {},
   "outputs": [],
   "source": [
    "import numpy as np\n",
    "from numpy import *"
   ]
  },
  {
   "cell_type": "code",
   "execution_count": 3,
   "id": "1bd999be",
   "metadata": {},
   "outputs": [],
   "source": [
    "a = [1 , 2 , 3 , 4 , 5]\n",
    "b = [6 , 7 , 8 , 9 , 10]"
   ]
  },
  {
   "cell_type": "code",
   "execution_count": 15,
   "id": "4131c470",
   "metadata": {},
   "outputs": [],
   "source": [
    "ab = []"
   ]
  },
  {
   "cell_type": "code",
   "execution_count": 16,
   "id": "fb73a6cd",
   "metadata": {},
   "outputs": [],
   "source": [
    "for i in range(0,len(a)):\n",
    "    ab.append( a[i] * b[i] )"
   ]
  },
  {
   "cell_type": "code",
   "execution_count": 17,
   "id": "719fc75d",
   "metadata": {},
   "outputs": [
    {
     "name": "stdout",
     "output_type": "stream",
     "text": [
      "for dongusu ile yaptik ==>  [6, 14, 24, 36, 50]\n"
     ]
    }
   ],
   "source": [
    "print(\"for dongusu ile yaptik ==> \" , ab)"
   ]
  },
  {
   "cell_type": "code",
   "execution_count": 18,
   "id": "9e6ae4cc",
   "metadata": {},
   "outputs": [],
   "source": [
    "a = np.array([1 , 2 , 3 , 4 , 5])\n",
    "b = np.array([6 , 7 , 8 , 9 , 10])"
   ]
  },
  {
   "cell_type": "code",
   "execution_count": 19,
   "id": "a08838cf",
   "metadata": {},
   "outputs": [],
   "source": [
    "islem_2 = a * b"
   ]
  },
  {
   "cell_type": "code",
   "execution_count": 20,
   "id": "5b587848",
   "metadata": {},
   "outputs": [
    {
     "name": "stdout",
     "output_type": "stream",
     "text": [
      "Numpy kutuphaneini kullanarak islem yaptik ==> [ 6 14 24 36 50]\n"
     ]
    }
   ],
   "source": [
    "print(\"Numpy kutuphaneini kullanarak islem yaptik ==>\" , islem_2)"
   ]
  }
 ],
 "metadata": {
  "kernelspec": {
   "display_name": "Python 3 (ipykernel)",
   "language": "python",
   "name": "python3"
  },
  "language_info": {
   "codemirror_mode": {
    "name": "ipython",
    "version": 3
   },
   "file_extension": ".py",
   "mimetype": "text/x-python",
   "name": "python",
   "nbconvert_exporter": "python",
   "pygments_lexer": "ipython3",
   "version": "3.11.4"
  }
 },
 "nbformat": 4,
 "nbformat_minor": 5
}
