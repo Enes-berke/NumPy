{
 "cells": [
  {
   "cell_type": "code",
   "execution_count": 1,
   "id": "aa78f21e-9d47-41d9-8e0a-906245ef5715",
   "metadata": {
    "tags": []
   },
   "outputs": [],
   "source": [
    "# NumPy'da Koşullu İşlemler (Conditions on Numpy)"
   ]
  },
  {
   "cell_type": "code",
   "execution_count": 2,
   "id": "c4a587c9-71c4-4797-8036-92a409d0718f",
   "metadata": {
    "tags": []
   },
   "outputs": [],
   "source": [
    "import numpy as np\n",
    "from numpy import *"
   ]
  },
  {
   "cell_type": "code",
   "execution_count": 3,
   "id": "619f0d5c-81c7-45d9-ab4b-2b87d8a29e3b",
   "metadata": {
    "tags": []
   },
   "outputs": [],
   "source": [
    "a = np.array([1,2,3,4,5,6,7,8,9,11,22,33,44,55,66,77,88,99,100])"
   ]
  },
  {
   "cell_type": "code",
   "execution_count": 4,
   "id": "7a97a3b7-1ce2-4f5b-a2be-22e59309b498",
   "metadata": {
    "tags": []
   },
   "outputs": [],
   "source": [
    "# Vektörümüzde 30 dan büyük degerleri yazdiralim"
   ]
  },
  {
   "cell_type": "code",
   "execution_count": 5,
   "id": "b9474944-1180-4566-a50e-ae72529fe924",
   "metadata": {
    "tags": []
   },
   "outputs": [
    {
     "name": "stdout",
     "output_type": "stream",
     "text": [
      "30 dan büyük degerler ==>  [ 33  44  55  66  77  88  99 100]\n"
     ]
    }
   ],
   "source": [
    "print(\"30 dan büyük degerler ==> \" , a[a>30] )"
   ]
  },
  {
   "cell_type": "code",
   "execution_count": 6,
   "id": "7857109e-cedb-431d-b86a-d5f88476d8de",
   "metadata": {
    "tags": []
   },
   "outputs": [
    {
     "name": "stdout",
     "output_type": "stream",
     "text": [
      "30 dan kucuk degerler ==>  [ 1  2  3  4  5  6  7  8  9 11 22]\n"
     ]
    }
   ],
   "source": [
    "print(\"30 dan kucuk degerler ==> \" , a[a < 30] )"
   ]
  },
  {
   "cell_type": "code",
   "execution_count": 7,
   "id": "21685dcf-40bf-4246-8590-4232c994f7a7",
   "metadata": {
    "tags": []
   },
   "outputs": [
    {
     "name": "stdout",
     "output_type": "stream",
     "text": [
      "33 e esit olmayan degerler degerler ==>  [  1   2   3   4   5   6   7   8   9  11  22  44  55  66  77  88  99 100]\n"
     ]
    }
   ],
   "source": [
    "print(\"33 e esit olmayan degerler degerler ==> \" , a[a != 33] )"
   ]
  },
  {
   "cell_type": "code",
   "execution_count": 8,
   "id": "dcd537f5-4354-45d0-97c5-e71236b03bc3",
   "metadata": {
    "tags": []
   },
   "outputs": [
    {
     "name": "stdout",
     "output_type": "stream",
     "text": [
      "22 ye esit olan deger yazdir ==>  [22]\n"
     ]
    }
   ],
   "source": [
    "print(\"22 ye esit olan deger yazdir ==> \" , a[a == 22] )"
   ]
  },
  {
   "cell_type": "code",
   "execution_count": 9,
   "id": "1efb808a-3d12-4f20-ac92-9970a7fa9755",
   "metadata": {
    "tags": []
   },
   "outputs": [
    {
     "name": "stdout",
     "output_type": "stream",
     "text": [
      "30 e eşit ve 33 den büyük degerler ==>  [ 33  44  55  66  77  88  99 100]\n"
     ]
    }
   ],
   "source": [
    "print(\"30 e eşit ve 33 den büyük degerler ==> \" , a[a >= 33] )"
   ]
  }
 ],
 "metadata": {
  "kernelspec": {
   "display_name": "Python 3 (ipykernel)",
   "language": "python",
   "name": "python3"
  },
  "language_info": {
   "codemirror_mode": {
    "name": "ipython",
    "version": 3
   },
   "file_extension": ".py",
   "mimetype": "text/x-python",
   "name": "python",
   "nbconvert_exporter": "python",
   "pygments_lexer": "ipython3",
   "version": "3.11.4"
  }
 },
 "nbformat": 4,
 "nbformat_minor": 5
}
