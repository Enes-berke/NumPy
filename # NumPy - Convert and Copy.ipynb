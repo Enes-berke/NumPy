{
 "cells": [
  {
   "cell_type": "code",
   "execution_count": 1,
   "id": "30b25faf-9d82-452e-ac1b-003e11df0cb0",
   "metadata": {
    "tags": []
   },
   "outputs": [],
   "source": [
    "# Convert and Copy"
   ]
  },
  {
   "cell_type": "code",
   "execution_count": 2,
   "id": "4aaea247-545d-4b0a-9d30-def8f2166ae8",
   "metadata": {
    "tags": []
   },
   "outputs": [],
   "source": [
    "import numpy as np\n",
    "from numpy import *"
   ]
  },
  {
   "cell_type": "code",
   "execution_count": 3,
   "id": "9a733f22-da4c-473b-a1ab-08fb76c1f021",
   "metadata": {
    "tags": []
   },
   "outputs": [],
   "source": [
    "liste = [1,2,3,4]   # list"
   ]
  },
  {
   "cell_type": "code",
   "execution_count": 4,
   "id": "86fda6a2-e75c-48cf-9a31-b5104053d69b",
   "metadata": {
    "tags": []
   },
   "outputs": [],
   "source": [
    "array = np.array(liste) #np.array ==> Array çevirme"
   ]
  },
  {
   "cell_type": "code",
   "execution_count": 5,
   "id": "2b76af6f-4ef0-4ed5-837f-356f9648c7db",
   "metadata": {
    "tags": []
   },
   "outputs": [],
   "source": [
    "liste2 = list(array) # Listeye çevirme"
   ]
  },
  {
   "cell_type": "code",
   "execution_count": 6,
   "id": "b46a451d-e003-4f42-938d-f3027c51d6b9",
   "metadata": {
    "tags": []
   },
   "outputs": [],
   "source": [
    "a = np.array([1,2,3])"
   ]
  },
  {
   "cell_type": "code",
   "execution_count": 7,
   "id": "6412fae4-370c-428d-a730-b001c7d09b86",
   "metadata": {
    "tags": []
   },
   "outputs": [
    {
     "name": "stdout",
     "output_type": "stream",
     "text": [
      "before b ==> [1 2 3]\n"
     ]
    }
   ],
   "source": [
    "b = a\n",
    "print(\"before b ==>\", b)"
   ]
  },
  {
   "cell_type": "code",
   "execution_count": 8,
   "id": "e69a8ab2-c22e-410f-90ad-8e8f3537c738",
   "metadata": {
    "tags": []
   },
   "outputs": [],
   "source": [
    "b[0] = 5 # ==> bu işlem ile a array içindeki deger de 5 e dönüştü ==> a - b ve c aynı alan ayrılıyor. Bu sebeple bir degişiklik hepsini etkiliyor. "
   ]
  },
  {
   "cell_type": "code",
   "execution_count": 9,
   "id": "52904153-31cd-406c-b7fa-23bfb1abfde2",
   "metadata": {
    "tags": []
   },
   "outputs": [],
   "source": [
    "c = a"
   ]
  },
  {
   "cell_type": "code",
   "execution_count": 10,
   "id": "d1d52272-0c86-4d5d-8735-1e5abaae73c2",
   "metadata": {
    "tags": []
   },
   "outputs": [
    {
     "name": "stdout",
     "output_type": "stream",
     "text": [
      " a ==> [5 2 3]\n"
     ]
    }
   ],
   "source": [
    "print(\" a ==>\", a)"
   ]
  },
  {
   "cell_type": "code",
   "execution_count": 11,
   "id": "96396b25-f3b0-41cd-a3e2-68fd7bc21a63",
   "metadata": {
    "tags": []
   },
   "outputs": [
    {
     "name": "stdout",
     "output_type": "stream",
     "text": [
      "late b ==> [5 2 3]\n"
     ]
    }
   ],
   "source": [
    "print(\"late b ==>\", b)"
   ]
  },
  {
   "cell_type": "code",
   "execution_count": 12,
   "id": "605827a7-cde6-4662-b66e-5e35e8d7ec47",
   "metadata": {
    "tags": []
   },
   "outputs": [
    {
     "name": "stdout",
     "output_type": "stream",
     "text": [
      " c ==> [5 2 3]\n"
     ]
    }
   ],
   "source": [
    "print(\" c ==>\", c)"
   ]
  },
  {
   "cell_type": "code",
   "execution_count": 13,
   "id": "1641c7a9-9ef0-4584-96f8-c19a3e9c9a46",
   "metadata": {
    "tags": []
   },
   "outputs": [
    {
     "name": "stdout",
     "output_type": "stream",
     "text": [
      " d ==> [1 2 3]\n"
     ]
    }
   ],
   "source": [
    "d =  np.array([1,2,3])\n",
    "print(\" d ==>\", d)"
   ]
  },
  {
   "cell_type": "code",
   "execution_count": 14,
   "id": "f704355e-6f12-4269-94a7-892bc5914e2d",
   "metadata": {
    "tags": []
   },
   "outputs": [
    {
     "name": "stdout",
     "output_type": "stream",
     "text": [
      " e ==> [1 2 3]\n"
     ]
    }
   ],
   "source": [
    "e = d.copy()\n",
    "print(\" e ==>\", e)"
   ]
  },
  {
   "cell_type": "code",
   "execution_count": 15,
   "id": "eda56239-5904-455b-819f-4a6670f8f6bf",
   "metadata": {
    "tags": []
   },
   "outputs": [
    {
     "name": "stdout",
     "output_type": "stream",
     "text": [
      " f ==> [1 2 3]\n"
     ]
    }
   ],
   "source": [
    "f = d.copy()\n",
    "print(\" f ==>\", f)"
   ]
  }
 ],
 "metadata": {
  "kernelspec": {
   "display_name": "Python 3 (ipykernel)",
   "language": "python",
   "name": "python3"
  },
  "language_info": {
   "codemirror_mode": {
    "name": "ipython",
    "version": 3
   },
   "file_extension": ".py",
   "mimetype": "text/x-python",
   "name": "python",
   "nbconvert_exporter": "python",
   "pygments_lexer": "ipython3",
   "version": "3.11.4"
  }
 },
 "nbformat": 4,
 "nbformat_minor": 5
}
