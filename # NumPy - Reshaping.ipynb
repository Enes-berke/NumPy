{
 "cells": [
  {
   "cell_type": "code",
   "execution_count": 1,
   "id": "7ef04a71-f0d2-4e65-83b3-d389830c5c8e",
   "metadata": {
    "tags": []
   },
   "outputs": [],
   "source": [
    "# Yeniden Şekillendirme (Reshaping)"
   ]
  },
  {
   "cell_type": "code",
   "execution_count": 2,
   "id": "f86f9ac8-809e-4482-9a19-b1df0f39aba2",
   "metadata": {
    "tags": []
   },
   "outputs": [],
   "source": [
    "import numpy as np\n",
    "from numpy import *"
   ]
  },
  {
   "cell_type": "code",
   "execution_count": 3,
   "id": "badebd8d-8cc0-4471-801c-44b7fc7ea9b7",
   "metadata": {
    "tags": []
   },
   "outputs": [],
   "source": [
    "array_1 = np.random.randint(1, 15, size = 12) # 1 - 15 arasinda 12 elemandan oluşan bir array oluştur. "
   ]
  },
  {
   "cell_type": "code",
   "execution_count": 4,
   "id": "b25156f2-ee19-48f8-92f9-ac23d168bf0b",
   "metadata": {
    "tags": []
   },
   "outputs": [],
   "source": [
    "array_2 = array_1.reshape(4, 3) # oluşturdugun bu arrayi ( reshape komutu ile ) 4 e 3 lük bir matrise dönüştür"
   ]
  },
  {
   "cell_type": "code",
   "execution_count": 5,
   "id": "bb5cc2d4-08da-4165-a1f1-f24e281850cf",
   "metadata": {
    "tags": []
   },
   "outputs": [],
   "source": [
    "# Çevirecegimizin matrisin eleman sayilari birbirleri ile uyumlu olmali. 12 elemandan oluşan bir arrayi 12 elemanli bir matrise çevirmek zorundayiz."
   ]
  },
  {
   "cell_type": "code",
   "execution_count": 6,
   "id": "1a1fa731-b526-4d92-bd8d-2de06af34cda",
   "metadata": {
    "tags": []
   },
   "outputs": [
    {
     "name": "stdout",
     "output_type": "stream",
     "text": [
      "Array 1 ==>  [ 9  6  3 11  6  3  7  3  7  8  8 10]\n"
     ]
    }
   ],
   "source": [
    "print(\"Array 1 ==> \" , array_1)"
   ]
  },
  {
   "cell_type": "code",
   "execution_count": 7,
   "id": "3c5a309b-39bc-4e83-96cf-d0b1ba604ee9",
   "metadata": {
    "tags": []
   },
   "outputs": [
    {
     "name": "stdout",
     "output_type": "stream",
     "text": [
      "Array 2 ==>  [[ 9  6  3]\n",
      " [11  6  3]\n",
      " [ 7  3  7]\n",
      " [ 8  8 10]]\n"
     ]
    }
   ],
   "source": [
    "print(\"Array 2 ==> \" , array_2)"
   ]
  }
 ],
 "metadata": {
  "kernelspec": {
   "display_name": "Python 3 (ipykernel)",
   "language": "python",
   "name": "python3"
  },
  "language_info": {
   "codemirror_mode": {
    "name": "ipython",
    "version": 3
   },
   "file_extension": ".py",
   "mimetype": "text/x-python",
   "name": "python",
   "nbconvert_exporter": "python",
   "pygments_lexer": "ipython3",
   "version": "3.11.4"
  }
 },
 "nbformat": 4,
 "nbformat_minor": 5
}
