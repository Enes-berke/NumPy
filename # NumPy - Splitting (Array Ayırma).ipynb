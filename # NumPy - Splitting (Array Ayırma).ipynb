{
 "cells": [
  {
   "cell_type": "code",
   "execution_count": null,
   "id": "5d6214b4",
   "metadata": {},
   "outputs": [],
   "source": [
    "# NumPy - Splitting (Array Ayırma)"
   ]
  },
  {
   "cell_type": "code",
   "execution_count": null,
   "id": "5951b728",
   "metadata": {},
   "outputs": [],
   "source": [
    "import numpy as np\n",
    "from numpy import * "
   ]
  },
  {
   "cell_type": "code",
   "execution_count": null,
   "id": "191815fd",
   "metadata": {},
   "outputs": [],
   "source": [
    "x = np.array([1,2,3,4,5,99,88,77,6,7,8,9])"
   ]
  },
  {
   "cell_type": "code",
   "execution_count": null,
   "id": "e877c03d",
   "metadata": {},
   "outputs": [],
   "source": [
    "print ( np.split ( x , [ 5 , 8 ] ) )"
   ]
  },
  {
   "cell_type": "code",
   "execution_count": null,
   "id": "beae6deb",
   "metadata": {},
   "outputs": [],
   "source": [
    "\n",
    "# x i split et. önce 5 e kadar ayir . Sonra 5 ten 8 e kadar bir kez daha ayir.\n",
    "# [array([1, 2, 3, 4, 5]), array([99, 88, 77]), array([6, 7, 8, 9])]"
   ]
  },
  {
   "cell_type": "code",
   "execution_count": null,
   "id": "05055e17",
   "metadata": {},
   "outputs": [],
   "source": [
    "a , b , c =  np.split ( x , [ 5 , 8 ] ) "
   ]
  },
  {
   "cell_type": "code",
   "execution_count": null,
   "id": "8261b735",
   "metadata": {},
   "outputs": [],
   "source": [
    "print(\"\\n a ==> \" , a)"
   ]
  },
  {
   "cell_type": "code",
   "execution_count": null,
   "id": "a2737418",
   "metadata": {},
   "outputs": [],
   "source": [
    "print(\"\\n b ==> \" , b)"
   ]
  },
  {
   "cell_type": "code",
   "execution_count": null,
   "id": "95ce7287",
   "metadata": {},
   "outputs": [],
   "source": [
    "print(\"\\n c ==> \" , c)"
   ]
  }
 ],
 "metadata": {
  "kernelspec": {
   "display_name": "Python 3 (ipykernel)",
   "language": "python",
   "name": "python3"
  },
  "language_info": {
   "codemirror_mode": {
    "name": "ipython",
    "version": 3
   },
   "file_extension": ".py",
   "mimetype": "text/x-python",
   "name": "python",
   "nbconvert_exporter": "python",
   "pygments_lexer": "ipython3",
   "version": "3.11.4"
  }
 },
 "nbformat": 4,
 "nbformat_minor": 5
}
