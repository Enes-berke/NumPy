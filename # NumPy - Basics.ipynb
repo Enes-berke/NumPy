{
 "cells": [
  {
   "cell_type": "code",
   "execution_count": 2,
   "id": "3d8b2415",
   "metadata": {},
   "outputs": [],
   "source": [
    "import numpy as np # Bu tanimlama ile artik numpy paketi program içerisinde np ismiyle temsil edilecektir.\n",
    "\n",
    "from numpy import * # Bu tanimlama ile numpy paketi içerisindeki tüm komutlar doğrudan çağrilabilir."
   ]
  },
  {
   "cell_type": "code",
   "execution_count": 4,
   "id": "6b031a0f",
   "metadata": {},
   "outputs": [],
   "source": [
    "array = np.array([1,2,3,4,5,6,7,8,9,10,11,12,13,14,15])"
   ]
  },
  {
   "cell_type": "code",
   "execution_count": 5,
   "id": "c36448e9",
   "metadata": {},
   "outputs": [
    {
     "name": "stdout",
     "output_type": "stream",
     "text": [
      "(15,)\n"
     ]
    }
   ],
   "source": [
    "print(array.shape) # 15 e 1 lik bir vektör (15,)"
   ]
  },
  {
   "cell_type": "code",
   "execution_count": 6,
   "id": "c789b7b2",
   "metadata": {},
   "outputs": [
    {
     "name": "stdout",
     "output_type": "stream",
     "text": [
      "shape => (3, 5)\n"
     ]
    }
   ],
   "source": [
    "a = array.reshape(3,5) # 3 satir ve 5 sutunden oluşan bir array haline getir.\n",
    "\n",
    "print(\"shape =>\", a.shape)"
   ]
  },
  {
   "cell_type": "code",
   "execution_count": 7,
   "id": "35b2855b",
   "metadata": {},
   "outputs": [
    {
     "name": "stdout",
     "output_type": "stream",
     "text": [
      "Dimension => 2\n",
      "Data typr => int32\n",
      "Size =>  15\n",
      "type =>  <class 'numpy.ndarray'>\n"
     ]
    }
   ],
   "source": [
    "print(\"Dimension =>\",a.ndim) # Kaç boyutlu olduğunu gösterir. 3 e 5 ==> 2 boyutlu\n",
    "\n",
    "print(\"Data typr =>\" , a.dtype.name) # Arrayin içindeki data typlerin isimleri nedir ??  => int32\n",
    "\n",
    "print(\"Size => \" , a.size) #Reshape den önceki boyutunu verir  ==> 15 (1 e 15 lik bir vektördü)\n",
    "\n",
    "print(\"type => \" ,type(a)) # => type =>  <class 'numpy.ndarray'> "
   ]
  },
  {
   "cell_type": "code",
   "execution_count": 8,
   "id": "16f9f147",
   "metadata": {},
   "outputs": [],
   "source": [
    "array1 = np.array([[1,2,3,4],\n",
    "                   [5,6,7,8],\n",
    "                   [9,8,7,5]]) # Reshape kullanmadan matrix oluşturma"
   ]
  },
  {
   "cell_type": "code",
   "execution_count": 9,
   "id": "a7f872ea",
   "metadata": {},
   "outputs": [],
   "source": [
    "matrix0 = np.zeros((3,4)) # 3 e 4 lük sıfırlardan oluşan matrix oluşturma"
   ]
  },
  {
   "cell_type": "code",
   "execution_count": 11,
   "id": "1510abf4",
   "metadata": {},
   "outputs": [
    {
     "name": "stdout",
     "output_type": "stream",
     "text": [
      "[[5. 0. 0. 0.]\n",
      " [0. 0. 0. 0.]\n",
      " [0. 0. 0. 0.]]\n"
     ]
    }
   ],
   "source": [
    "matrix0[0][0] = 5\n",
    "print(matrix0)\n",
    "\n"
   ]
  },
  {
   "cell_type": "code",
   "execution_count": 12,
   "id": "2155f874",
   "metadata": {},
   "outputs": [
    {
     "name": "stdout",
     "output_type": "stream",
     "text": [
      "[[1. 1. 1. 1.]\n",
      " [1. 1. 1. 1.]\n",
      " [1. 1. 1. 1.]]\n"
     ]
    }
   ],
   "source": [
    "matrix1 = np.ones((3,4)) # 3 e 4 lük birlerden oluşan matrix oluşturma\n",
    "print(matrix1)"
   ]
  },
  {
   "cell_type": "code",
   "execution_count": 13,
   "id": "5dbe399b",
   "metadata": {},
   "outputs": [
    {
     "name": "stdout",
     "output_type": "stream",
     "text": [
      "[[ 0.          2.63157895  5.26315789  7.89473684]\n",
      " [10.52631579 13.15789474 15.78947368 18.42105263]\n",
      " [21.05263158 23.68421053 26.31578947 28.94736842]\n",
      " [31.57894737 34.21052632 36.84210526 39.47368421]\n",
      " [42.10526316 44.73684211 47.36842105 50.        ]]\n"
     ]
    }
   ],
   "source": [
    "matrix_ = np.empty((5,4)) # 3 e 4 lük boşlardan oluşan matrix oluşturma\n",
    "print(matrix_)"
   ]
  },
  {
   "cell_type": "code",
   "execution_count": 14,
   "id": "de384702",
   "metadata": {},
   "outputs": [
    {
     "name": "stdout",
     "output_type": "stream",
     "text": [
      "==>  [ 0 12 24 36 48 60 72 84]\n"
     ]
    }
   ],
   "source": [
    "b = np.arange(0 , 90 , 12) # 0 - 90 arasındaki sayıları 12 şer olarak yazdır. Son sayılar genelde dahil olmaz \n",
    "print(\"==> \" , b)"
   ]
  },
  {
   "cell_type": "code",
   "execution_count": 15,
   "id": "b37bcb22",
   "metadata": {},
   "outputs": [
    {
     "name": "stdout",
     "output_type": "stream",
     "text": [
      "==>  [ 0.          2.63157895  5.26315789  7.89473684 10.52631579 13.15789474\n",
      " 15.78947368 18.42105263 21.05263158 23.68421053 26.31578947 28.94736842\n",
      " 31.57894737 34.21052632 36.84210526 39.47368421 42.10526316 44.73684211\n",
      " 47.36842105 50.        ]\n"
     ]
    }
   ],
   "source": [
    "c = np.linspace(0 , 50 , 20) # 0 - 50 arasında araya 20 tane sayı yazdır. Son sayı dahil.\n",
    "print(\"==> \" , c)"
   ]
  },
  {
   "cell_type": "code",
   "execution_count": 16,
   "id": "c359ac5c",
   "metadata": {},
   "outputs": [],
   "source": [
    "array2 = np.array([[1,2,3,4],\n",
    "                   [5,6,7,8],\n",
    "                   [9,8,7,5]]) "
   ]
  },
  {
   "cell_type": "code",
   "execution_count": 17,
   "id": "fe5694c6",
   "metadata": {},
   "outputs": [
    {
     "name": "stdout",
     "output_type": "stream",
     "text": [
      "Bellek adresi ==>  <memory at 0x000001A14133E400>\n"
     ]
    }
   ],
   "source": [
    "print(\"Bellek adresi ==> \" , array2.data) # Dizinin bellek adresini verir."
   ]
  },
  {
   "cell_type": "code",
   "execution_count": 18,
   "id": "56b9fef2",
   "metadata": {},
   "outputs": [
    {
     "name": "stdout",
     "output_type": "stream",
     "text": [
      "Eleman sayisi ==>  12\n"
     ]
    }
   ],
   "source": [
    "print(\"Eleman sayisi ==> \" , array2.size) # Dizinin eleman sayısını verir."
   ]
  },
  {
   "cell_type": "code",
   "execution_count": 19,
   "id": "d9dc20c7",
   "metadata": {},
   "outputs": [
    {
     "name": "stdout",
     "output_type": "stream",
     "text": [
      "Tek boyutlu hali ==>  [1 2 3 4 5 6 7 8 9 8 7 5]\n"
     ]
    }
   ],
   "source": [
    "print(\"Tek boyutlu hali ==> \" , array2.ravel()) # Matrisi tek boyutlu diziye çevirir.\n",
    "#print(array2.flat)  Matrisi tek boyutlu diziye çevirir."
   ]
  }
 ],
 "metadata": {
  "kernelspec": {
   "display_name": "Python 3 (ipykernel)",
   "language": "python",
   "name": "python3"
  },
  "language_info": {
   "codemirror_mode": {
    "name": "ipython",
    "version": 3
   },
   "file_extension": ".py",
   "mimetype": "text/x-python",
   "name": "python",
   "nbconvert_exporter": "python",
   "pygments_lexer": "ipython3",
   "version": "3.11.4"
  }
 },
 "nbformat": 4,
 "nbformat_minor": 5
}
