{
 "cells": [
  {
   "cell_type": "code",
   "execution_count": null,
   "id": "ee6c6160",
   "metadata": {},
   "outputs": [],
   "source": [
    "# Shape Manipulation"
   ]
  },
  {
   "cell_type": "code",
   "execution_count": 1,
   "id": "d8dbe059",
   "metadata": {},
   "outputs": [],
   "source": [
    "import numpy as np\n",
    "from numpy import *"
   ]
  },
  {
   "cell_type": "code",
   "execution_count": 2,
   "id": "6d44f40c",
   "metadata": {},
   "outputs": [],
   "source": [
    "\n",
    "array = np.array([[1,2,3],\n",
    "                  [4,5,6],\n",
    "                  [7,8,9]])"
   ]
  },
  {
   "cell_type": "code",
   "execution_count": 3,
   "id": "0496c12d",
   "metadata": {},
   "outputs": [
    {
     "name": "stdout",
     "output_type": "stream",
     "text": [
      "[1 2 3 4 5 6 7 8 9]\n"
     ]
    }
   ],
   "source": [
    "print(array.ravel()) # Matrixi tek boyutlu - vektör hal,ne getirme"
   ]
  },
  {
   "cell_type": "code",
   "execution_count": 4,
   "id": "b951fb3b",
   "metadata": {},
   "outputs": [
    {
     "name": "stdout",
     "output_type": "stream",
     "text": [
      "[[1 2 3]\n",
      " [4 5 6]\n",
      " [7 8 9]]\n"
     ]
    }
   ],
   "source": [
    "print(array.reshape(3,3)) # etki ettigi arrayı degiştirmez. Başka bir degişkene eşitlersen array başka degişken üzerinde değişmiş olur. "
   ]
  },
  {
   "cell_type": "code",
   "execution_count": 5,
   "id": "386c97e6",
   "metadata": {},
   "outputs": [
    {
     "name": "stdout",
     "output_type": "stream",
     "text": [
      "[[1 4 7]\n",
      " [2 5 8]\n",
      " [3 6 9]]\n"
     ]
    }
   ],
   "source": [
    "array2 = array.T\n",
    "print(array2) # Matrixin transpozunu alma\n",
    "\n",
    "# array2.resize((2,3)) ==> etki ettigi arrayi değiştirir"
   ]
  }
 ],
 "metadata": {
  "kernelspec": {
   "display_name": "Python 3 (ipykernel)",
   "language": "python",
   "name": "python3"
  },
  "language_info": {
   "codemirror_mode": {
    "name": "ipython",
    "version": 3
   },
   "file_extension": ".py",
   "mimetype": "text/x-python",
   "name": "python",
   "nbconvert_exporter": "python",
   "pygments_lexer": "ipython3",
   "version": "3.11.4"
  }
 },
 "nbformat": 4,
 "nbformat_minor": 5
}
