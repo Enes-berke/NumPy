{
 "cells": [
  {
   "cell_type": "code",
   "execution_count": null,
   "id": "7e1533eb",
   "metadata": {},
   "outputs": [],
   "source": [
    "# Stacking Arrays (Array birleşimleri)"
   ]
  },
  {
   "cell_type": "code",
   "execution_count": null,
   "id": "b986e1a5",
   "metadata": {},
   "outputs": [],
   "source": [
    "import numpy as np\n",
    "from numpy import *"
   ]
  },
  {
   "cell_type": "code",
   "execution_count": null,
   "id": "61cf2b6d",
   "metadata": {},
   "outputs": [],
   "source": [
    "array1 = np.array([[1,2],[3,4]])\n",
    "array2 = np.array([[-1,-2],[-3,-4]])"
   ]
  },
  {
   "cell_type": "code",
   "execution_count": null,
   "id": "fe16d524",
   "metadata": {},
   "outputs": [],
   "source": [
    "# veritical ==> dikey birleştirme \n",
    "#array([[1, 2],\n",
    "#       [3, 4]])\n",
    "#array([[-1, -2],\n",
    "#       [-3, -4]])"
   ]
  },
  {
   "cell_type": "code",
   "execution_count": null,
   "id": "14d368df",
   "metadata": {},
   "outputs": [],
   "source": [
    "array3 = np.vstack((array1,array2))"
   ]
  },
  {
   "cell_type": "code",
   "execution_count": null,
   "id": "70d3bbf1",
   "metadata": {},
   "outputs": [],
   "source": [
    "print(array3)"
   ]
  },
  {
   "cell_type": "code",
   "execution_count": null,
   "id": "2a6325aa",
   "metadata": {},
   "outputs": [],
   "source": [
    "# horizontal ==> yatay birleştirme\n",
    "#array([[1, 2],[-1, -2],\n",
    "#       [3, 4]],[-3, -4]]"
   ]
  },
  {
   "cell_type": "code",
   "execution_count": null,
   "id": "258b838c",
   "metadata": {},
   "outputs": [],
   "source": [
    "array4 = np.hstack((array1,array2))"
   ]
  },
  {
   "cell_type": "code",
   "execution_count": null,
   "id": "2a642d17",
   "metadata": {},
   "outputs": [],
   "source": [
    "print(array4)"
   ]
  }
 ],
 "metadata": {
  "kernelspec": {
   "display_name": "Python 3 (ipykernel)",
   "language": "python",
   "name": "python3"
  },
  "language_info": {
   "codemirror_mode": {
    "name": "ipython",
    "version": 3
   },
   "file_extension": ".py",
   "mimetype": "text/x-python",
   "name": "python",
   "nbconvert_exporter": "python",
   "pygments_lexer": "ipython3",
   "version": "3.11.4"
  }
 },
 "nbformat": 4,
 "nbformat_minor": 5
}
