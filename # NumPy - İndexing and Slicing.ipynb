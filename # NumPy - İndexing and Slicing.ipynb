{
 "cells": [
  {
   "cell_type": "code",
   "execution_count": null,
   "id": "4c37ba82",
   "metadata": {},
   "outputs": [],
   "source": [
    "# İndexing and Slicing"
   ]
  },
  {
   "cell_type": "code",
   "execution_count": null,
   "id": "d4d2e2d9",
   "metadata": {},
   "outputs": [],
   "source": [
    "import numpy as np\n",
    "from numpy import *"
   ]
  },
  {
   "cell_type": "code",
   "execution_count": null,
   "id": "959b7af7",
   "metadata": {},
   "outputs": [],
   "source": [
    "array = np.array([1,2,3,4,5,6,7])   #  vector dimension = 1"
   ]
  },
  {
   "cell_type": "code",
   "execution_count": null,
   "id": "c85fe81d",
   "metadata": {},
   "outputs": [],
   "source": [
    "print(array[2]) # => 3 "
   ]
  },
  {
   "cell_type": "code",
   "execution_count": null,
   "id": "47e1edec",
   "metadata": {},
   "outputs": [],
   "source": [
    "print(array[0:4]) # => 1 - 2 - 3 - 4 (0. indexten 4. indexe kadar yazdırır)"
   ]
  },
  {
   "cell_type": "code",
   "execution_count": null,
   "id": "06d3a5da",
   "metadata": {},
   "outputs": [],
   "source": [
    "reverse_array = array[::-1]"
   ]
  },
  {
   "cell_type": "code",
   "execution_count": null,
   "id": "84885e0b",
   "metadata": {},
   "outputs": [],
   "source": [
    "print(reverse_array)"
   ]
  },
  {
   "cell_type": "code",
   "execution_count": null,
   "id": "d7f85447",
   "metadata": {},
   "outputs": [],
   "source": [
    "array1 = np.array([[1,2,3,4,5],[6,7,8,9,10]])"
   ]
  },
  {
   "cell_type": "code",
   "execution_count": null,
   "id": "696a8d94",
   "metadata": {},
   "outputs": [],
   "source": [
    "print(array1[1,1]) # ==> 7"
   ]
  },
  {
   "cell_type": "code",
   "execution_count": null,
   "id": "88c5d812",
   "metadata": {},
   "outputs": [],
   "source": [
    "print(array1[:,1]) # ==> 2 - 7"
   ]
  },
  {
   "cell_type": "code",
   "execution_count": null,
   "id": "63ea8a11",
   "metadata": {},
   "outputs": [],
   "source": [
    "print(array1[1,1:4]) # ==> 7 - 8 - 9"
   ]
  },
  {
   "cell_type": "code",
   "execution_count": null,
   "id": "bc9e1802",
   "metadata": {},
   "outputs": [],
   "source": [
    "print(array1[-1,:]) # ==> 6 - 7 - 8 - 9 - 10"
   ]
  },
  {
   "cell_type": "code",
   "execution_count": null,
   "id": "3e943ef1",
   "metadata": {},
   "outputs": [],
   "source": [
    "print(array1[:,-1]) # ==> 5 - 10"
   ]
  }
 ],
 "metadata": {
  "kernelspec": {
   "display_name": "Python 3 (ipykernel)",
   "language": "python",
   "name": "python3"
  },
  "language_info": {
   "codemirror_mode": {
    "name": "ipython",
    "version": 3
   },
   "file_extension": ".py",
   "mimetype": "text/x-python",
   "name": "python",
   "nbconvert_exporter": "python",
   "pygments_lexer": "ipython3",
   "version": "3.11.4"
  }
 },
 "nbformat": 4,
 "nbformat_minor": 5
}
