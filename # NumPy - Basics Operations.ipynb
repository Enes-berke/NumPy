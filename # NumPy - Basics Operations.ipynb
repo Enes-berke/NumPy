{
 "cells": [
  {
   "cell_type": "code",
   "execution_count": null,
   "id": "b0135c29",
   "metadata": {},
   "outputs": [],
   "source": [
    "# NumPy Basics Operations"
   ]
  },
  {
   "cell_type": "code",
   "execution_count": 1,
   "id": "aa532ca1",
   "metadata": {},
   "outputs": [],
   "source": [
    "import numpy as np\n",
    "from numpy import * "
   ]
  },
  {
   "cell_type": "code",
   "execution_count": 2,
   "id": "665d48f2",
   "metadata": {},
   "outputs": [],
   "source": [
    "a = np.array([1,2,3])\n",
    "b = np.array([4,5,6])"
   ]
  },
  {
   "cell_type": "code",
   "execution_count": 3,
   "id": "2e194347",
   "metadata": {},
   "outputs": [
    {
     "name": "stdout",
     "output_type": "stream",
     "text": [
      "[5 7 9]\n"
     ]
    }
   ],
   "source": [
    "print(a+b)"
   ]
  },
  {
   "cell_type": "code",
   "execution_count": 4,
   "id": "8cb8980e",
   "metadata": {},
   "outputs": [
    {
     "name": "stdout",
     "output_type": "stream",
     "text": [
      "[-3 -3 -3]\n"
     ]
    }
   ],
   "source": [
    "print(a-b)"
   ]
  },
  {
   "cell_type": "code",
   "execution_count": 5,
   "id": "28a077db",
   "metadata": {},
   "outputs": [
    {
     "name": "stdout",
     "output_type": "stream",
     "text": [
      "[1 4 9]\n"
     ]
    }
   ],
   "source": [
    "print(a**2)"
   ]
  },
  {
   "cell_type": "code",
   "execution_count": 6,
   "id": "14ff19a3",
   "metadata": {},
   "outputs": [
    {
     "name": "stdout",
     "output_type": "stream",
     "text": [
      "[0.84147098 0.90929743 0.14112001]\n"
     ]
    }
   ],
   "source": [
    "print(np.sin(a)) # a nin sinusunu al"
   ]
  },
  {
   "cell_type": "code",
   "execution_count": 7,
   "id": "a7dbbe79",
   "metadata": {},
   "outputs": [
    {
     "name": "stdout",
     "output_type": "stream",
     "text": [
      "[ True False False]\n"
     ]
    }
   ],
   "source": [
    "print(a < 2) # True False False"
   ]
  },
  {
   "cell_type": "code",
   "execution_count": 8,
   "id": "7788db97",
   "metadata": {},
   "outputs": [],
   "source": [
    "aa = np.array([[1,2,3],\n",
    "               [4,5,6]])\n",
    "\n",
    "bb = np.array([[1,2,3],\n",
    "               [4,5,6]])"
   ]
  },
  {
   "cell_type": "code",
   "execution_count": 9,
   "id": "6fa1a677",
   "metadata": {},
   "outputs": [
    {
     "name": "stdout",
     "output_type": "stream",
     "text": [
      "a x b ==>  [ 4 10 18]\n"
     ]
    }
   ],
   "source": [
    "print(\"a x b ==> \" , a*b)"
   ]
  },
  {
   "cell_type": "code",
   "execution_count": 10,
   "id": "cc2dd8a4",
   "metadata": {},
   "outputs": [
    {
     "name": "stdout",
     "output_type": "stream",
     "text": [
      "==> \n",
      " [[14 32]\n",
      " [32 77]]\n"
     ]
    }
   ],
   "source": [
    "# print(aa.dot(bb)) # Matrix çarpimlarda aa satır sayısı bb sutun sayısına eşit olmalı bu sebeple bu işlemde hata alırız\n",
    "\n",
    "print(\"==> \\n\" , aa.dot(bb.T)) # bb.T ==> b matrixinin transpozesini alma demektir."
   ]
  },
  {
   "cell_type": "code",
   "execution_count": 11,
   "id": "db076bc7",
   "metadata": {},
   "outputs": [],
   "source": [
    "aaa = np.random.random((5,5)) # 5 e 5 lik 0 ile 1 arasinda sayi üretmek."
   ]
  },
  {
   "cell_type": "code",
   "execution_count": 12,
   "id": "1f901522",
   "metadata": {},
   "outputs": [
    {
     "name": "stdout",
     "output_type": "stream",
     "text": [
      "Random 5 e 5 ==>  [[0.48544249 0.47629194 0.5902049  0.13185601 0.41405419]\n",
      " [0.68130142 0.38137134 0.15945962 0.09027724 0.8373818 ]\n",
      " [0.09663916 0.76264897 0.88217108 0.02059146 0.75928998]\n",
      " [0.52780143 0.5406085  0.45983112 0.57893783 0.30572613]\n",
      " [0.20038659 0.53906641 0.16953842 0.88938948 0.13901688]]\n"
     ]
    }
   ],
   "source": [
    "print(\"Random 5 e 5 ==> \" , aaa)"
   ]
  },
  {
   "cell_type": "code",
   "execution_count": 13,
   "id": "ac2bf6a2",
   "metadata": {},
   "outputs": [
    {
     "data": {
      "text/plain": [
       "11.119284382259659"
      ]
     },
     "execution_count": 13,
     "metadata": {},
     "output_type": "execute_result"
    }
   ],
   "source": [
    "aaa.sum() # Aray içindeki tüm degerlerin toplami ==>"
   ]
  },
  {
   "cell_type": "code",
   "execution_count": null,
   "id": "410c9f00",
   "metadata": {},
   "outputs": [],
   "source": [
    "print(\"Arayin içindeki tüm degerlerin toplami ==>\" , aaa.sum() )"
   ]
  },
  {
   "cell_type": "code",
   "execution_count": 14,
   "id": "7272c1df",
   "metadata": {},
   "outputs": [
    {
     "data": {
      "text/plain": [
       "0.8893894774865215"
      ]
     },
     "execution_count": 14,
     "metadata": {},
     "output_type": "execute_result"
    }
   ],
   "source": [
    "aaa.max() # Aray içindeki max degeri ==>"
   ]
  },
  {
   "cell_type": "code",
   "execution_count": 15,
   "id": "d545dba8",
   "metadata": {},
   "outputs": [
    {
     "name": "stdout",
     "output_type": "stream",
     "text": [
      "Arayin içindeki max degeri ==> 0.8893894774865215\n"
     ]
    }
   ],
   "source": [
    "print(\"Arayin içindeki max degeri ==>\" , aaa.max())"
   ]
  },
  {
   "cell_type": "code",
   "execution_count": 16,
   "id": "28604b0c",
   "metadata": {},
   "outputs": [
    {
     "data": {
      "text/plain": [
       "0.02059145524776751"
      ]
     },
     "execution_count": 16,
     "metadata": {},
     "output_type": "execute_result"
    }
   ],
   "source": [
    "aaa.min() # Aray içindeki min deger ==>"
   ]
  },
  {
   "cell_type": "code",
   "execution_count": 17,
   "id": "855c34ba",
   "metadata": {},
   "outputs": [
    {
     "name": "stdout",
     "output_type": "stream",
     "text": [
      "Arayin içindeki min deger ==> 0.02059145524776751\n"
     ]
    }
   ],
   "source": [
    "print(\"Arayin içindeki min deger ==>\" , aaa.min())"
   ]
  },
  {
   "cell_type": "code",
   "execution_count": 18,
   "id": "6153239a",
   "metadata": {},
   "outputs": [
    {
     "data": {
      "text/plain": [
       "array([1.99157109, 2.69998716, 2.26120513, 1.71105201, 2.45546899])"
      ]
     },
     "execution_count": 18,
     "metadata": {},
     "output_type": "execute_result"
    }
   ],
   "source": [
    "aaa.sum(axis=0) # Sutunlara göre toplama. Sadece sutun olarak toplama islemi yapilir."
   ]
  },
  {
   "cell_type": "code",
   "execution_count": 19,
   "id": "eb8eb85a",
   "metadata": {},
   "outputs": [
    {
     "name": "stdout",
     "output_type": "stream",
     "text": [
      "Sutunlara göre toplama ==> [1.99157109 2.69998716 2.26120513 1.71105201 2.45546899]\n"
     ]
    }
   ],
   "source": [
    "print(\"Sutunlara göre toplama ==>\" , aaa.sum(axis=0))"
   ]
  },
  {
   "cell_type": "code",
   "execution_count": 20,
   "id": "3d05643b",
   "metadata": {},
   "outputs": [
    {
     "data": {
      "text/plain": [
       "array([2.09784953, 2.14979142, 2.52134064, 2.41290502, 1.93739777])"
      ]
     },
     "execution_count": 20,
     "metadata": {},
     "output_type": "execute_result"
    }
   ],
   "source": [
    "aaa.sum(axis=1) # Satirlar kendi aralarinda toplanir"
   ]
  },
  {
   "cell_type": "code",
   "execution_count": 21,
   "id": "c3af704f",
   "metadata": {},
   "outputs": [
    {
     "name": "stdout",
     "output_type": "stream",
     "text": [
      "Satirlar kendi aralarinda toplanir ==> [2.09784953 2.14979142 2.52134064 2.41290502 1.93739777]\n"
     ]
    }
   ],
   "source": [
    "print(\"Satirlar kendi aralarinda toplanir ==>\" , aaa.sum(axis=1) )"
   ]
  },
  {
   "cell_type": "code",
   "execution_count": 22,
   "id": "62d6ce78",
   "metadata": {},
   "outputs": [
    {
     "name": "stdout",
     "output_type": "stream",
     "text": [
      "Matrixin karekoku ==> [[0.69673703 0.69013907 0.76824794 0.36311983 0.64347043]\n",
      " [0.82540985 0.6175527  0.39932395 0.30046171 0.91508568]\n",
      " [0.3108684  0.87329775 0.93923963 0.14349723 0.87137247]\n",
      " [0.72649944 0.73526084 0.67810849 0.76087964 0.55292507]\n",
      " [0.4476456  0.73421142 0.41175043 0.94307448 0.37284967]]\n"
     ]
    }
   ],
   "source": [
    "print(\"Matrixin karekoku ==>\" , np.sqrt(aaa))"
   ]
  },
  {
   "cell_type": "code",
   "execution_count": 23,
   "id": "7b551c9b",
   "metadata": {},
   "outputs": [
    {
     "name": "stdout",
     "output_type": "stream",
     "text": [
      "Matrixin karesi ==> [[2.35654409e-01 2.26854012e-01 3.48341828e-01 1.73860071e-02\n",
      "  1.71440873e-01]\n",
      " [4.64171625e-01 1.45444101e-01 2.54273695e-02 8.14997995e-03\n",
      "  7.01208287e-01]\n",
      " [9.33912732e-03 5.81633448e-01 7.78225809e-01 4.24008029e-04\n",
      "  5.76521275e-01]\n",
      " [2.78574352e-01 2.92257554e-01 2.11444657e-01 3.35169014e-01\n",
      "  9.34684678e-02]\n",
      " [4.01547839e-02 2.90592589e-01 2.87432757e-02 7.91013643e-01\n",
      "  1.93256929e-02]]\n"
     ]
    }
   ],
   "source": [
    "print(\"Matrixin karesi ==>\" , np.square(aaa)) # a**2"
   ]
  },
  {
   "cell_type": "code",
   "execution_count": 24,
   "id": "f4ec1dd1",
   "metadata": {},
   "outputs": [
    {
     "name": "stdout",
     "output_type": "stream",
     "text": [
      "İki matrixin toplamini ifade eder ==>  [[0.97088498 0.95258388 1.18040981 0.26371202 0.82810838]\n",
      " [1.36260284 0.76274269 0.31891923 0.18055448 1.67476361]\n",
      " [0.19327832 1.52529794 1.76434215 0.04118291 1.51857996]\n",
      " [1.05560287 1.08121701 0.91966224 1.15787566 0.61145226]\n",
      " [0.40077317 1.07813281 0.33907684 1.77877895 0.27803376]]\n"
     ]
    }
   ],
   "source": [
    "print(\"İki matrixin toplamini ifade eder ==> \" , np.add(aaa , aaa))"
   ]
  }
 ],
 "metadata": {
  "kernelspec": {
   "display_name": "Python 3 (ipykernel)",
   "language": "python",
   "name": "python3"
  },
  "language_info": {
   "codemirror_mode": {
    "name": "ipython",
    "version": 3
   },
   "file_extension": ".py",
   "mimetype": "text/x-python",
   "name": "python",
   "nbconvert_exporter": "python",
   "pygments_lexer": "ipython3",
   "version": "3.11.4"
  }
 },
 "nbformat": 4,
 "nbformat_minor": 5
}
