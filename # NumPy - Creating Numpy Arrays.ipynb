{
 "cells": [
  {
   "cell_type": "code",
   "execution_count": 1,
   "id": "50da0e63-b38f-4c76-9495-24e5368ebb82",
   "metadata": {
    "tags": []
   },
   "outputs": [],
   "source": [
    "# NumPy - NumPy Array'i Oluşturmak (Creating Numpy Arrays)"
   ]
  },
  {
   "cell_type": "code",
   "execution_count": 2,
   "id": "7cf7c0ba-8aa5-4203-b4a6-023bb4fba728",
   "metadata": {
    "tags": []
   },
   "outputs": [],
   "source": [
    "import numpy as np\n",
    "from numpy import *"
   ]
  },
  {
   "cell_type": "code",
   "execution_count": 3,
   "id": "7c8cd767-45f9-40d1-a183-2fce8db455a2",
   "metadata": {
    "tags": []
   },
   "outputs": [],
   "source": [
    "array1 = np.array([1, 2, 3, 4, 5])"
   ]
  },
  {
   "cell_type": "code",
   "execution_count": 4,
   "id": "a8a28491-3700-4bdb-9ac5-92824e70e29a",
   "metadata": {
    "tags": []
   },
   "outputs": [
    {
     "name": "stdout",
     "output_type": "stream",
     "text": [
      "<class 'numpy.ndarray'>\n"
     ]
    }
   ],
   "source": [
    "print(type(np.array([1, 2, 3, 4, 5])))"
   ]
  },
  {
   "cell_type": "code",
   "execution_count": 5,
   "id": "78590112-40d0-4b1e-98c0-ea44ed5165c1",
   "metadata": {
    "tags": []
   },
   "outputs": [
    {
     "name": "stdout",
     "output_type": "stream",
     "text": [
      "[0 0 0 0 0 0 0 0 0 0]\n"
     ]
    }
   ],
   "source": [
    "print(np.zeros(10, dtype=int)) # o lardan bir array oluşturmak"
   ]
  },
  {
   "cell_type": "code",
   "execution_count": 6,
   "id": "7e15768f-c153-4921-9fce-0a21dd961056",
   "metadata": {
    "tags": []
   },
   "outputs": [
    {
     "name": "stdout",
     "output_type": "stream",
     "text": [
      "[8 6 5 1 7 2 8 5 4 7]\n"
     ]
    }
   ],
   "source": [
    "print(np.random.randint(0, 10, size=10)) # 0 - 10 arasında 10 tane elemanlı random bir array oluşturma"
   ]
  },
  {
   "cell_type": "code",
   "execution_count": 7,
   "id": "2bac8156-c1f6-41d5-9871-5f73d5a246e8",
   "metadata": {
    "tags": []
   },
   "outputs": [
    {
     "name": "stdout",
     "output_type": "stream",
     "text": [
      "[[ 6.95306602  3.8206611  13.40006717  8.13627773]\n",
      " [ 6.54896448  1.47391332 10.98994847  8.03607897]\n",
      " [ 5.0445671  17.18483877  7.40215762  6.29763877]]\n"
     ]
    }
   ],
   "source": [
    "print(np.random.normal(10, 4, (3, 4))) # Ortalaması 10 - Standart sapması 4 olan 3'e 4'lük bir array oluşturma"
   ]
  }
 ],
 "metadata": {
  "kernelspec": {
   "display_name": "Python 3 (ipykernel)",
   "language": "python",
   "name": "python3"
  },
  "language_info": {
   "codemirror_mode": {
    "name": "ipython",
    "version": 3
   },
   "file_extension": ".py",
   "mimetype": "text/x-python",
   "name": "python",
   "nbconvert_exporter": "python",
   "pygments_lexer": "ipython3",
   "version": "3.11.4"
  }
 },
 "nbformat": 4,
 "nbformat_minor": 5
}
