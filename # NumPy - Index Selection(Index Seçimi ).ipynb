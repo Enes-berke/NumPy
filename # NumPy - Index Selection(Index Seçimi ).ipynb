{
 "cells": [
  {
   "cell_type": "code",
   "execution_count": null,
   "id": "ab6ece4f",
   "metadata": {},
   "outputs": [],
   "source": [
    "# Index Seçimi (Index Selection)"
   ]
  },
  {
   "cell_type": "code",
   "execution_count": null,
   "id": "6d5d4b53",
   "metadata": {},
   "outputs": [],
   "source": [
    "import numpy as np\n",
    "from numpy import *"
   ]
  },
  {
   "cell_type": "code",
   "execution_count": null,
   "id": "6c0fef14",
   "metadata": {},
   "outputs": [],
   "source": [
    "a = np.random.randint(7 , 23, 10) # 7 - 23 arasinda 10 elemanli bir array"
   ]
  },
  {
   "cell_type": "code",
   "execution_count": null,
   "id": "ad768642",
   "metadata": {},
   "outputs": [],
   "source": [
    "print(\"a ==> \" , a)"
   ]
  },
  {
   "cell_type": "code",
   "execution_count": null,
   "id": "35f9f3d2",
   "metadata": {},
   "outputs": [],
   "source": [
    "print(\"a[0] ==>\" , a[0])"
   ]
  },
  {
   "cell_type": "code",
   "execution_count": null,
   "id": "cd8bb7b8",
   "metadata": {},
   "outputs": [],
   "source": [
    "print(\"a[0:5] ==>\" , a[0:5]) # 0. indexten 5. index e kadar. Ama 5. index dahil değil ==> 0 - 1 - 2 - 3 - 4 "
   ]
  },
  {
   "cell_type": "code",
   "execution_count": null,
   "id": "2debc7af",
   "metadata": {},
   "outputs": [],
   "source": [
    "a[0] = 999 # 0 index 999 eşitlenmiş oldu"
   ]
  },
  {
   "cell_type": "code",
   "execution_count": null,
   "id": "bc7c308d",
   "metadata": {},
   "outputs": [],
   "source": [
    "print(\"a ==> \" , a)"
   ]
  },
  {
   "cell_type": "code",
   "execution_count": null,
   "id": "01f8f144",
   "metadata": {},
   "outputs": [],
   "source": [
    "m = np.random.randint(12 , 55 , (3 , 5)) # 12 - 55 arasinda 3 satir ve 5 sutunden oluşan 15 elemanli br array (matrix) oluştur."
   ]
  },
  {
   "cell_type": "code",
   "execution_count": null,
   "id": "517a8cbe",
   "metadata": {},
   "outputs": [],
   "source": [
    "print(\"\\n\\n m[] ==>\" , m)"
   ]
  },
  {
   "cell_type": "code",
   "execution_count": null,
   "id": "dda70ba7",
   "metadata": {},
   "outputs": [],
   "source": [
    "print(\"\\nm[0, 0] ==>\" , m[0, 0]) # satir = 0 / sutun = 0"
   ]
  },
  {
   "cell_type": "code",
   "execution_count": null,
   "id": "93b207ea",
   "metadata": {},
   "outputs": [],
   "source": [
    "print(\"\\nm[1, 1]\" , m[1, 1]) # satir = 1 / sutun = 1"
   ]
  },
  {
   "cell_type": "code",
   "execution_count": null,
   "id": "809cf5a7",
   "metadata": {},
   "outputs": [],
   "source": [
    "print(\"\\nm[2, 3] ==>\" ,m[2, 3]) # satir = 2 / sutun = 3"
   ]
  },
  {
   "cell_type": "code",
   "execution_count": null,
   "id": "b780a5e1",
   "metadata": {},
   "outputs": [],
   "source": [
    "m[2, 3] = 999"
   ]
  },
  {
   "cell_type": "code",
   "execution_count": null,
   "id": "6db54506",
   "metadata": {},
   "outputs": [],
   "source": [
    "print(\"\\nm[2, 3] ==>\" ,m[2, 3]) # Değişmiş oldu ."
   ]
  },
  {
   "cell_type": "code",
   "execution_count": null,
   "id": "4f4b2308",
   "metadata": {},
   "outputs": [],
   "source": [
    "print(\"\\nm[:, 0] ==>\" ,m[:, 0]) # satir = 0 dan son satira kadar  / sutun = 0 [{==> 0. satir 0. sutun / 1. satir 0. sutun / 2. satir 0. sutun .....}]"
   ]
  },
  {
   "cell_type": "code",
   "execution_count": null,
   "id": "5e4e3de0",
   "metadata": {},
   "outputs": [],
   "source": [
    "print(\"\\nm[1, :] ==> \" , m[1, :]) # satir = 1 / sutun = 0 dan son sutuna kadar  [{==> 1. satir 0. sutun / 1. satir 1. sutun / 1. satir 2. sutun .....}]"
   ]
  },
  {
   "cell_type": "code",
   "execution_count": null,
   "id": "454a1f43",
   "metadata": {},
   "outputs": [],
   "source": [
    "print(\"\\nm[0:2, 0:3] ==> \" , m[0:2, 0:3]) # satir = 0 - 1 / sutun = 0 - 1 - 2"
   ]
  },
  {
   "cell_type": "code",
   "execution_count": null,
   "id": "ece5eb94",
   "metadata": {},
   "outputs": [],
   "source": [
    "# satir = 0 sutun = 0\n",
    "# satir = 0 sutun = 1\n",
    "# satir = 0 sutun = 2\n",
    "# satir = 1 sutun = 0\n",
    "# satir = 1 sutun = 1\n",
    "# satir = 1 sutun = 2"
   ]
  }
 ],
 "metadata": {
  "kernelspec": {
   "display_name": "Python 3 (ipykernel)",
   "language": "python",
   "name": "python3"
  },
  "language_info": {
   "codemirror_mode": {
    "name": "ipython",
    "version": 3
   },
   "file_extension": ".py",
   "mimetype": "text/x-python",
   "name": "python",
   "nbconvert_exporter": "python",
   "pygments_lexer": "ipython3",
   "version": "3.11.4"
  }
 },
 "nbformat": 4,
 "nbformat_minor": 5
}
