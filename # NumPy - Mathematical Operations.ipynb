{
 "cells": [
  {
   "cell_type": "code",
   "execution_count": 1,
   "id": "6910efa7-ea04-4631-bea0-a0dccff9c275",
   "metadata": {
    "tags": []
   },
   "outputs": [],
   "source": [
    "# Matematiksel Işlemler (Mathematical Operations)"
   ]
  },
  {
   "cell_type": "code",
   "execution_count": 2,
   "id": "ebf4918d-6b6f-48fa-9af7-12e60bc7e009",
   "metadata": {
    "tags": []
   },
   "outputs": [],
   "source": [
    "import numpy as np\n",
    "from numpy import *"
   ]
  },
  {
   "cell_type": "code",
   "execution_count": 3,
   "id": "1a6f5d01-e797-41d0-8150-3ecc35afd01b",
   "metadata": {
    "tags": []
   },
   "outputs": [],
   "source": [
    "a = np.array([1, 2, 3, 4, 5])"
   ]
  },
  {
   "cell_type": "code",
   "execution_count": 4,
   "id": "8e78fc19-2e11-4b9a-9ba6-94d3988ed0d8",
   "metadata": {
    "tags": []
   },
   "outputs": [
    {
     "name": "stdout",
     "output_type": "stream",
     "text": [
      "dizideki elemanlarin toplami ==>  15\n"
     ]
    }
   ],
   "source": [
    "print(\"dizideki elemanlarin toplami ==> \" , np.sum(a)) # dizideki elemanlarin toplami ==> 1+2+3+4+5 => 15"
   ]
  },
  {
   "cell_type": "code",
   "execution_count": 5,
   "id": "8c5768aa-3ea4-4e06-a82e-f7331dcd6344",
   "metadata": {
    "tags": []
   },
   "outputs": [
    {
     "name": "stdout",
     "output_type": "stream",
     "text": [
      "min deger ==>  1\n"
     ]
    }
   ],
   "source": [
    "print(\"min deger ==> \" , np.min(a)) # min deger ==> 1"
   ]
  },
  {
   "cell_type": "code",
   "execution_count": 6,
   "id": "eda92d49-2fad-4732-9f69-94d6911504fe",
   "metadata": {
    "tags": []
   },
   "outputs": [
    {
     "name": "stdout",
     "output_type": "stream",
     "text": [
      "max deger ==>  5\n"
     ]
    }
   ],
   "source": [
    "print(\"max deger ==> \" , np.max(a)) # max deger ==> 5"
   ]
  },
  {
   "cell_type": "code",
   "execution_count": 7,
   "id": "94753277-0517-4870-9e90-8ff74dca1fb9",
   "metadata": {
    "tags": []
   },
   "outputs": [
    {
     "name": "stdout",
     "output_type": "stream",
     "text": [
      "standart sapma ==>  1.4142135623730951\n"
     ]
    }
   ],
   "source": [
    "print(\"standart sapma ==> \" , np.std(a)) # standart sapma"
   ]
  },
  {
   "cell_type": "code",
   "execution_count": 8,
   "id": "3b6820cb-5ab3-43fd-a971-c78e98fb2009",
   "metadata": {
    "tags": []
   },
   "outputs": [
    {
     "name": "stdout",
     "output_type": "stream",
     "text": [
      "varyans ==>  2.0\n"
     ]
    }
   ],
   "source": [
    "print(\"varyans ==> \" , np.var(a)) # varyans"
   ]
  },
  {
   "cell_type": "code",
   "execution_count": 9,
   "id": "e629c67c-ebbf-4775-8bc0-add4571d32db",
   "metadata": {
    "tags": []
   },
   "outputs": [
    {
     "name": "stdout",
     "output_type": "stream",
     "text": [
      "min degerin indeksi ==>  0\n"
     ]
    }
   ],
   "source": [
    "print(\"min degerin indeksi ==> \" , np.argmin(a)) # min degerin indeksi ==>  min deger (1) => 1 in indeksi => 0"
   ]
  },
  {
   "cell_type": "code",
   "execution_count": 10,
   "id": "27fc510f-7134-47ba-8ac8-20530629a2b3",
   "metadata": {
    "tags": []
   },
   "outputs": [
    {
     "name": "stdout",
     "output_type": "stream",
     "text": [
      "max degern indeksi ==>  4\n"
     ]
    }
   ],
   "source": [
    "print(\"max degern indeksi ==> \" , np.argmax(a)) # max degern indeksi "
   ]
  },
  {
   "cell_type": "code",
   "execution_count": 11,
   "id": "b4b8c98c-9e55-4085-9a17-5527385b151e",
   "metadata": {
    "tags": []
   },
   "outputs": [
    {
     "name": "stdout",
     "output_type": "stream",
     "text": [
      "median ==>  3.0\n"
     ]
    }
   ],
   "source": [
    "print(\"median ==> \" , np.median(a)) # median"
   ]
  },
  {
   "cell_type": "code",
   "execution_count": 12,
   "id": "62a818be-70de-4263-91c0-778a5d325528",
   "metadata": {
    "tags": []
   },
   "outputs": [
    {
     "name": "stdout",
     "output_type": "stream",
     "text": [
      "Butun elemanlarin karesi ==>  [ 1  4  9 16 25]\n"
     ]
    }
   ],
   "source": [
    "print(\"Butun elemanlarin karesi ==> \" , a**2 ) "
   ]
  },
  {
   "cell_type": "code",
   "execution_count": 13,
   "id": "e254adf3-7b2f-4596-b1ec-7c0bcb1dd316",
   "metadata": {
    "tags": []
   },
   "outputs": [
    {
     "name": "stdout",
     "output_type": "stream",
     "text": [
      "Butun elemanlari 5 ile topla ==>  [ 6  7  8  9 10]\n"
     ]
    }
   ],
   "source": [
    "print(\"Butun elemanlari 5 ile topla ==> \" , np.add(a , 5)) "
   ]
  },
  {
   "cell_type": "code",
   "execution_count": 14,
   "id": "a199cfa0-e52b-4356-9272-82a1f0e7b690",
   "metadata": {
    "tags": []
   },
   "outputs": [
    {
     "name": "stdout",
     "output_type": "stream",
     "text": [
      "Butun elemanlarin 2 den farkini al ==>  [-1  0  1  2  3]\n"
     ]
    }
   ],
   "source": [
    "print(\"Butun elemanlarin 2 den farkini al ==> \" , np.subtract(a, 2)) "
   ]
  }
 ],
 "metadata": {
  "kernelspec": {
   "display_name": "Python 3 (ipykernel)",
   "language": "python",
   "name": "python3"
  },
  "language_info": {
   "codemirror_mode": {
    "name": "ipython",
    "version": 3
   },
   "file_extension": ".py",
   "mimetype": "text/x-python",
   "name": "python",
   "nbconvert_exporter": "python",
   "pygments_lexer": "ipython3",
   "version": "3.11.4"
  }
 },
 "nbformat": 4,
 "nbformat_minor": 5
}
