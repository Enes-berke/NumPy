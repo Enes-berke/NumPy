{
 "cells": [
  {
   "cell_type": "code",
   "execution_count": 1,
   "id": "3bb6fcaa-d62e-4f32-bc92-10df8bea9fe0",
   "metadata": {
    "tags": []
   },
   "outputs": [],
   "source": [
    "# NumPy - NumPy Array Özellikleri (Attibutes of Numpy Arrays)"
   ]
  },
  {
   "cell_type": "code",
   "execution_count": 2,
   "id": "01134edc-84f0-4bf7-81c3-beb3875a44d6",
   "metadata": {
    "tags": []
   },
   "outputs": [],
   "source": [
    "import numpy as np\n",
    "from numpy import *"
   ]
  },
  {
   "cell_type": "code",
   "execution_count": 3,
   "id": "ec7c8c5a-eec4-4391-b7dd-1044c2d37817",
   "metadata": {
    "tags": []
   },
   "outputs": [],
   "source": [
    "# ndim: boyut sayısı\n",
    "# shape: boyut bilgisi\n",
    "# size: toplam eleman sayısı\n",
    "# dtype: array veri tipi"
   ]
  },
  {
   "cell_type": "code",
   "execution_count": 4,
   "id": "4d596f87-d9f2-4bda-882d-1bd851e81d7b",
   "metadata": {
    "tags": []
   },
   "outputs": [],
   "source": [
    "array_1 = np.arange( 2 , 26 , 3) # 2 den başlar ve 3 er artarak 26 değerine kadar bir array oluşturu. 2 - 5 - ..... - 20 - 23"
   ]
  },
  {
   "cell_type": "code",
   "execution_count": 5,
   "id": "1bd69667-ebfb-4c51-8412-307ef2ca22f8",
   "metadata": {
    "tags": []
   },
   "outputs": [
    {
     "name": "stdout",
     "output_type": "stream",
     "text": [
      "Array ==>  [ 2  5  8 11 14 17 20 23]\n"
     ]
    }
   ],
   "source": [
    "print(\"Array ==> \" , array_1) # Array ==> [ 2  5  8 11 14 17 20 23]"
   ]
  },
  {
   "cell_type": "code",
   "execution_count": 6,
   "id": "5bb65b0c-8017-4a98-83ae-c90c038bfb65",
   "metadata": {
    "tags": []
   },
   "outputs": [
    {
     "name": "stdout",
     "output_type": "stream",
     "text": [
      "Dizinin tipini verir ==> int32\n"
     ]
    }
   ],
   "source": [
    "print(\"Dizinin tipini verir ==>\" , array_1.dtype )  #  int32"
   ]
  },
  {
   "cell_type": "code",
   "execution_count": 7,
   "id": "5d7b7a96-4eb6-45df-b5ba-4224d38322fb",
   "metadata": {
    "tags": []
   },
   "outputs": [
    {
     "name": "stdout",
     "output_type": "stream",
     "text": [
      "Dizinin boyutunu verir ==> 1\n"
     ]
    }
   ],
   "source": [
    "print(\"Dizinin boyutunu verir ==>\" , array_1.ndim ) # 1"
   ]
  },
  {
   "cell_type": "code",
   "execution_count": 8,
   "id": "5ca5e07d-b38b-43ed-8ac9-7b1125721775",
   "metadata": {
    "tags": []
   },
   "outputs": [
    {
     "name": "stdout",
     "output_type": "stream",
     "text": [
      "Dizinin eleman sayisini verir ==> 8\n"
     ]
    }
   ],
   "source": [
    "print(\"Dizinin eleman sayisini verir ==>\" , array_1.size ) #  8"
   ]
  },
  {
   "cell_type": "code",
   "execution_count": 9,
   "id": "0acd1f5a-d98b-4d8c-9246-2d1e863f9a2d",
   "metadata": {
    "tags": []
   },
   "outputs": [
    {
     "name": "stdout",
     "output_type": "stream",
     "text": [
      "Dizinin bellek adresini verir. ==> <memory at 0x000001F862D6D480>\n"
     ]
    }
   ],
   "source": [
    "print(\"Dizinin bellek adresini verir. ==>\" , array_1.data ) "
   ]
  },
  {
   "cell_type": "code",
   "execution_count": 10,
   "id": "68205106-300f-4fd6-8185-b88e49e638de",
   "metadata": {
    "tags": []
   },
   "outputs": [
    {
     "name": "stdout",
     "output_type": "stream",
     "text": [
      "Dizinin boyut bilgisini verir ==> (8,)\n"
     ]
    }
   ],
   "source": [
    "print(\"Dizinin boyut bilgisini verir ==>\" , array_1.shape ) # (8,)"
   ]
  },
  {
   "cell_type": "code",
   "execution_count": 11,
   "id": "63ede272-5332-4786-b0c7-326e521e8ac2",
   "metadata": {
    "tags": []
   },
   "outputs": [],
   "source": [
    "array_2 = np.array([[1,2,3],\n",
    "                   [4,5,6]])"
   ]
  },
  {
   "cell_type": "code",
   "execution_count": 12,
   "id": "55e6c09e-cb21-4a5e-b928-654018fe71c2",
   "metadata": {
    "tags": []
   },
   "outputs": [
    {
     "name": "stdout",
     "output_type": "stream",
     "text": [
      "Dizinin boyutunu verir ==> 2\n"
     ]
    }
   ],
   "source": [
    "print(\"Dizinin boyutunu verir ==>\" , array_2.ndim ) # 2"
   ]
  }
 ],
 "metadata": {
  "kernelspec": {
   "display_name": "Python 3 (ipykernel)",
   "language": "python",
   "name": "python3"
  },
  "language_info": {
   "codemirror_mode": {
    "name": "ipython",
    "version": 3
   },
   "file_extension": ".py",
   "mimetype": "text/x-python",
   "name": "python",
   "nbconvert_exporter": "python",
   "pygments_lexer": "ipython3",
   "version": "3.11.4"
  }
 },
 "nbformat": 4,
 "nbformat_minor": 5
}
