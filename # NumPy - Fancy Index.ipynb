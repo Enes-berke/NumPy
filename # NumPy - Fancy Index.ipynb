{
 "cells": [
  {
   "cell_type": "code",
   "execution_count": null,
   "id": "170d24b2",
   "metadata": {},
   "outputs": [],
   "source": [
    "# Fancy Index"
   ]
  },
  {
   "cell_type": "code",
   "execution_count": null,
   "id": "7d2fcaf0",
   "metadata": {},
   "outputs": [],
   "source": [
    "import numpy as np\n",
    "from numpy import *"
   ]
  },
  {
   "cell_type": "code",
   "execution_count": null,
   "id": "34792198",
   "metadata": {},
   "outputs": [],
   "source": [
    "v = np.arange(0, 40, 5) # 0 dan 40 a kadar 5 in katlarini yazdır (40 haric) 0-5-10-15-20-25-30-35 "
   ]
  },
  {
   "cell_type": "code",
   "execution_count": null,
   "id": "b60a1ad7",
   "metadata": {},
   "outputs": [],
   "source": [
    "print(v)"
   ]
  },
  {
   "cell_type": "code",
   "execution_count": null,
   "id": "4e3d5e6b",
   "metadata": {},
   "outputs": [],
   "source": [
    "print(v[1])"
   ]
  },
  {
   "cell_type": "code",
   "execution_count": null,
   "id": "630e68a1",
   "metadata": {},
   "outputs": [],
   "source": [
    "print(v[4]) # bu şekilde sira ile girmek üşendirici oldugu için aşagidaki yolu kullaniriz ==>"
   ]
  },
  {
   "cell_type": "code",
   "execution_count": null,
   "id": "76774534",
   "metadata": {},
   "outputs": [],
   "source": [
    "index = [1, 2, 3] "
   ]
  },
  {
   "cell_type": "code",
   "execution_count": null,
   "id": "6f5de878",
   "metadata": {},
   "outputs": [],
   "source": [
    "print(v[index]) # v[index] demek => v[1] - v[2] - v[3] ifadelerinin daha kolay ifade edilmiş şeklidir."
   ]
  },
  {
   "cell_type": "code",
   "execution_count": null,
   "id": "9bfcd561",
   "metadata": {},
   "outputs": [],
   "source": [
    "# 1 - 2 - 3 indexteki sayılar bu şekilde daha sağlikli bir şekilde ifade edilmiş olur. "
   ]
  }
 ],
 "metadata": {
  "kernelspec": {
   "display_name": "Python 3 (ipykernel)",
   "language": "python",
   "name": "python3"
  },
  "language_info": {
   "codemirror_mode": {
    "name": "ipython",
    "version": 3
   },
   "file_extension": ".py",
   "mimetype": "text/x-python",
   "name": "python",
   "nbconvert_exporter": "python",
   "pygments_lexer": "ipython3",
   "version": "3.11.4"
  }
 },
 "nbformat": 4,
 "nbformat_minor": 5
}
